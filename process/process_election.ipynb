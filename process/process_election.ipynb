{
 "cells": [
  {
   "cell_type": "code",
   "execution_count": 123,
   "metadata": {},
   "outputs": [],
   "source": [
    "import json\n",
    "import re\n",
    "import math\n",
    "import statistics\n",
    "\n",
    "study = json.load(open(\"userstudy_clean.json\"))\n",
    "squares = json.load(open(\"elec_squares.json\"))\n",
    "hexes = json.load(open(\"elec_hexes.json\"))"
   ]
  },
  {
   "cell_type": "code",
   "execution_count": 124,
   "metadata": {},
   "outputs": [
    {
     "name": "stdout",
     "output_type": "stream",
     "text": [
      "2024-3-25-11-8-11\n",
      "2024-3-25-14-45-41\n",
      "2024-3-25-20-1-48\n",
      "2024-3-25-22-10-55\n",
      "2024-3-26-10-37-31\n",
      "2024-3-26-12-47-58\n",
      "2024-3-26-9-56-20\n"
     ]
    }
   ],
   "source": [
    "results = {}\n",
    "\n",
    "domains = {\n",
    "    'PopSqKm': 200,\n",
    "    'DemLead': 200,\n",
    "    'PoC': 50\n",
    "}\n",
    "\n",
    "for user in study:\n",
    "    answers = study[user]\n",
    "    res = []\n",
    "    print(user)\n",
    "\n",
    "    for ans in answers:\n",
    "        a = {}\n",
    "        a['map'] = ans['map']\n",
    "        a['time'] = ans['time'] / 1e3\n",
    "        a['type'] = ans['type']\n",
    "        a['user_answer'] = ans['user_clean']\n",
    "        if ans['type'] == 'text':\n",
    "            dat = squares if ans['map'] == 'square' else hexes\n",
    "            a['err'] = abs(ans['user_clean'] - dat[ans['a']][ans['q_clean']]) / domains[ans['q_clean']]\n",
    "        else:            \n",
    "            a['err'] = 'correct' if ans['user_clean'] in ans['a'] else 'wrong'\n",
    "        a['og_question'] = ans['q']\n",
    "        a['og_answer'] = ans['user']\n",
    "        res.append(a)\n",
    "    results[user] = res\n",
    "# results"
   ]
  },
  {
   "cell_type": "code",
   "execution_count": 125,
   "metadata": {},
   "outputs": [],
   "source": [
    "out_file = open('elec_results.csv', 'w')"
   ]
  },
  {
   "cell_type": "code",
   "execution_count": 126,
   "metadata": {},
   "outputs": [
    {
     "data": {
      "text/plain": [
       "235"
      ]
     },
     "execution_count": 126,
     "metadata": {},
     "output_type": "execute_result"
    }
   ],
   "source": [
    "\n",
    "\n",
    "time_ans_h = []\n",
    "time_ans_s = []\n",
    "\n",
    "for user in results:\n",
    "    # out_file.write(user)\n",
    "    # out_file.write(user)\n",
    "\n",
    "    for ans in results[user]:\n",
    "        if ans['map'] == 'hex':\n",
    "            time_ans_h.append(ans['time'])\n",
    "        else:\n",
    "            time_ans_s.append(ans['time'])\n",
    "\n",
    "\n",
    "\n",
    "err_ans_h = []\n",
    "err_ans_s = []\n",
    "\n",
    "for user in results:\n",
    "    # out_file.write(user)\n",
    "    # out_file.write(user)\n",
    "\n",
    "    for ans in results[user]:\n",
    "        if ans['type'] == 'text':\n",
    "            if ans['map'] == 'hex':\n",
    "                err_ans_h.append(ans['err'])\n",
    "            else:\n",
    "                err_ans_s.append(ans['err'])\n",
    "\n",
    "\n",
    "\n",
    "corr_ans_h = []\n",
    "corr_ans_s = []\n",
    "\n",
    "for user in results:\n",
    "    # out_file.write(user)\n",
    "    # out_file.write(user)\n",
    "\n",
    "    for ans in results[user]:\n",
    "        if ans['type'] == 'click':\n",
    "            if ans['map'] == 'hex':\n",
    "                corr_ans_h.append(1 if str(ans['err']) == 'correct' else 0)\n",
    "            else:\n",
    "                corr_ans_s.append(1 if str(ans['err']) == 'correct' else 0)\n",
    "\n",
    "out_file.write('hextile\\n')\n",
    "out_file.write('label,avg,all_ans\\n')\n",
    "out_file.write('time_to_insight_sec')\n",
    "out_file.write(',' + str(statistics.fmean(time_ans_h)) + ',' + ','.join([str(t) for t in time_ans_h]))\n",
    "\n",
    "out_file.write('\\n')\n",
    "out_file.write('err')\n",
    "out_file.write(',' + str(statistics.fmean(err_ans_h)) + ',' + ','.join([str(t) for t in err_ans_h]))\n",
    "\n",
    "out_file.write('\\n')\n",
    "out_file.write('is_correct')\n",
    "out_file.write(',' + str(statistics.fmean(corr_ans_h)) + ',' + ','.join([str(t) for t in corr_ans_h]))\n",
    "\n",
    "out_file.write('\\n')\n",
    "out_file.write('\\n')\n",
    "out_file.write('squaretile\\n')\n",
    "out_file.write('label,avg,all_ans\\n')\n",
    "out_file.write('time_to_insight_sec')\n",
    "out_file.write(',' + str(statistics.fmean(time_ans_s)) + ',' + ','.join([str(t) for t in time_ans_s]))\n",
    "\n",
    "out_file.write('\\n')\n",
    "out_file.write('err')\n",
    "out_file.write(',' + str(statistics.fmean(err_ans_s)) + ',' + ','.join([str(t) for t in err_ans_s]))\n",
    "\n",
    "out_file.write('\\n')\n",
    "out_file.write('is_correct')\n",
    "out_file.write(',' + str(statistics.fmean(corr_ans_s)) + ',' + ','.join([str(t) for t in corr_ans_s]))"
   ]
  },
  {
   "cell_type": "code",
   "execution_count": 127,
   "metadata": {},
   "outputs": [],
   "source": [
    "out_file.close()"
   ]
  },
  {
   "cell_type": "code",
   "execution_count": null,
   "metadata": {},
   "outputs": [],
   "source": []
  }
 ],
 "metadata": {
  "kernelspec": {
   "display_name": ".venv",
   "language": "python",
   "name": "python3"
  },
  "language_info": {
   "codemirror_mode": {
    "name": "ipython",
    "version": 3
   },
   "file_extension": ".py",
   "mimetype": "text/x-python",
   "name": "python",
   "nbconvert_exporter": "python",
   "pygments_lexer": "ipython3",
   "version": "3.8.16"
  }
 },
 "nbformat": 4,
 "nbformat_minor": 2
}
